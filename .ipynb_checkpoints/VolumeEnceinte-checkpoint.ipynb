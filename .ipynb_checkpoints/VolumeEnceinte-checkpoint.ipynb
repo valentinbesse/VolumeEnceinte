{
 "cells": [
  {
   "cell_type": "markdown",
   "metadata": {},
   "source": [
    "# Programme de calcul des dimensions de l'enceinte connectée\n",
    "\n",
    "## Objectif\n",
    "\n",
    "Le programme sert à résoudre l'équations non-linéaire décrivant les dimensions de l'enceinte connectée (modèle de LFPoulain sur YouTube). Pour cela on utilise la méthode de Newton.\n",
    "\n",
    "## Licence \n",
    "\n",
    "Ce programme est sous licence CC-Zéro (licence libre non copyleft). Libre à vous d'utiliser ce code, de le modifier, de le partager ou même de le commercialiser.\n",
    "\n",
    "## Auteur\n",
    "\n",
    "Le code est écrit par Valentin Besse (valentinbesse@aumbox.net)."
   ]
  },
  {
   "cell_type": "code",
   "execution_count": 3,
   "metadata": {},
   "outputs": [],
   "source": [
    "import math # importe le module mathematique.\n",
    "\n",
    "# Declaration des variables de depart\n",
    "volumeEnceinte = 8; # Volume de l'enceinte (L)\n",
    "epaisseurBois = 20; # Epaisseur du bois (mm)\n",
    "volumeBassReflex = 2*math.pi*70*115*1**(-6); # Volume du Bass Reflex à retiré (L)\n"
   ]
  },
  {
   "cell_type": "code",
   "execution_count": null,
   "metadata": {},
   "outputs": [],
   "source": []
  }
 ],
 "metadata": {
  "kernelspec": {
   "display_name": "Python 3",
   "language": "python",
   "name": "python3"
  },
  "language_info": {
   "codemirror_mode": {
    "name": "ipython",
    "version": 3
   },
   "file_extension": ".py",
   "mimetype": "text/x-python",
   "name": "python",
   "nbconvert_exporter": "python",
   "pygments_lexer": "ipython3",
   "version": "3.6.5"
  }
 },
 "nbformat": 4,
 "nbformat_minor": 2
}
