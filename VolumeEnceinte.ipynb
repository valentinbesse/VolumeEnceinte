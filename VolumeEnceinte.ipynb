{
 "cells": [
  {
   "cell_type": "markdown",
   "metadata": {},
   "source": [
    "# Programme de calcul des dimensions de l'enceinte connectée\n",
    "\n",
    "## Objectif\n",
    "\n",
    "Le programme sert à résoudre l'équations non-linéaire décrivant les dimensions de l'enceinte connectée (modèle de Les Frères Poulain sur YouTube : https://youtu.be/ollr-PpCMAw). Pour cela on utilise la méthode de Newton.\n",
    "\n",
    "## Licence \n",
    "\n",
    "Ce programme est sous licence CC-Zéro (licence libre non copyleft). Libre à vous d'utiliser ce code, de le modifier, de le partager ou même de le commercialiser.\n",
    "\n",
    "## Auteur\n",
    "\n",
    "Le code est écrit par Valentin Besse (valentinbesse@aumbox.net)."
   ]
  },
  {
   "cell_type": "code",
   "execution_count": 6,
   "metadata": {},
   "outputs": [
    {
     "name": "stdout",
     "output_type": "stream",
     "text": [
      "La racine est :  156.25968610952455\n",
      "f(x) à la racine est égale à :  -3.2689422369003296e-07\n",
      "La racine est :  156.2596861095228\n",
      "f(x) à la racine est égale à :  0.0\n",
      "La racine est :  156.2596861095228\n",
      "f(x) à la racine est égale à :  0.0\n"
     ]
    }
   ],
   "source": [
    "import math # importe le module mathematique.\n",
    "\n",
    "# Declaration des variables de depart\n",
    "volumeEnceinte = 8*10**6 # Volume de l'enceinte (mm3)\n",
    "epaisseurBois = 20 # Epaisseur du bois (mm)\n",
    "volumeBassReflex = 2*math.pi*70*115 # Volume du Bass Reflex à retiré (mm3)\n",
    "volumeCorrige = volumeEnceinte - volumeBassReflex # Volume corrigé de l'intérieur de la boite.\n",
    "\n",
    "# Definition des fonctions nécessaires au calcul de la méthode de Newton.\n",
    "\n",
    "# f(x) = 0\n",
    "def dx(f, x):\n",
    "    return abs(0-f(x))\n",
    "\n",
    "# Methode de Newton\n",
    "def newtons_method(f, df, x0, e):\n",
    "    delta = dx(f, x0)\n",
    "    while delta > e:\n",
    "        x0 = x0 - f(x0)/df(x0)\n",
    "        delta = dx(f, x0)\n",
    "    print('La racine est : ', x0)\n",
    "    print('f(x) à la racine est égale à : ', f(x0))\n",
    "    \n",
    "# Fonction f(x)\n",
    "def f(x):\n",
    "    return volumeCorrige - 8/9*(x - 2*epaisseurBois)*(1.6*x - 2*epaisseurBois)*(2.6*x - 2*epaisseurBois)\n",
    "\n",
    "# Derivee de la fonction f(x)\n",
    "def df(x):\n",
    "    return -8/9*((2.6*x - 2*epaisseurBois)*((1.6*x - 2*epaisseurBois) + 1.6*(x - 2*epaisseurBois)) + 2.6*(x - 2*epaisseurBois)*(1.6*x - 2*epaisseurBois))\n",
    "\n",
    "x0s = [10, .5, 50]\n",
    "for x0 in x0s:\n",
    "     newtons_method(f, df, x0, 1e-5)"
   ]
  },
  {
   "cell_type": "code",
   "execution_count": null,
   "metadata": {},
   "outputs": [],
   "source": []
  }
 ],
 "metadata": {
  "kernelspec": {
   "display_name": "Python 3",
   "language": "python",
   "name": "python3"
  },
  "language_info": {
   "codemirror_mode": {
    "name": "ipython",
    "version": 3
   },
   "file_extension": ".py",
   "mimetype": "text/x-python",
   "name": "python",
   "nbconvert_exporter": "python",
   "pygments_lexer": "ipython3",
   "version": "3.6.5"
  }
 },
 "nbformat": 4,
 "nbformat_minor": 2
}
